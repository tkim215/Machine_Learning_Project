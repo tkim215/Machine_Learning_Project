{
 "cells": [
  {
   "cell_type": "code",
   "execution_count": 13,
   "id": "21641318",
   "metadata": {},
   "outputs": [],
   "source": [
    "import numpy as np\n",
    "import gym"
   ]
  },
  {
   "cell_type": "code",
   "execution_count": 14,
   "id": "7603ec90",
   "metadata": {},
   "outputs": [],
   "source": [
    "env = gym.make('FrozenLake-v1',is_slippery=False)"
   ]
  },
  {
   "cell_type": "code",
   "execution_count": 15,
   "id": "9e65bda0",
   "metadata": {},
   "outputs": [
    {
     "data": {
      "text/plain": [
       "4"
      ]
     },
     "execution_count": 15,
     "metadata": {},
     "output_type": "execute_result"
    }
   ],
   "source": [
    "Action = env.action_space.n\n",
    "Action"
   ]
  },
  {
   "cell_type": "code",
   "execution_count": 16,
   "id": "967ae33c",
   "metadata": {},
   "outputs": [
    {
     "data": {
      "text/plain": [
       "16"
      ]
     },
     "execution_count": 16,
     "metadata": {},
     "output_type": "execute_result"
    }
   ],
   "source": [
    "State = env.observation_space.n\n",
    "State"
   ]
  },
  {
   "cell_type": "code",
   "execution_count": 18,
   "id": "3260c741",
   "metadata": {},
   "outputs": [
    {
     "name": "stdout",
     "output_type": "stream",
     "text": [
      "\n",
      "\u001b[41mS\u001b[0mFFF\n",
      "FHFH\n",
      "FFFH\n",
      "HFFG\n",
      "Enter the number of your move: left(0) down(1) right(2) up(3): 1\n",
      "next_state=4\n",
      "reward=0.0\n",
      "{'prob': 1.0}\n",
      "done=False\n",
      "  (Down)\n",
      "SFFF\n",
      "\u001b[41mF\u001b[0mHFH\n",
      "FFFH\n",
      "HFFG\n",
      "Enter the number of your move: left(0) down(1) right(2) up(3): 1\n",
      "next_state=8\n",
      "reward=0.0\n",
      "{'prob': 1.0}\n",
      "done=False\n",
      "  (Down)\n",
      "SFFF\n",
      "FHFH\n",
      "\u001b[41mF\u001b[0mFFH\n",
      "HFFG\n",
      "Enter the number of your move: left(0) down(1) right(2) up(3): 2\n",
      "next_state=9\n",
      "reward=0.0\n",
      "{'prob': 1.0}\n",
      "done=False\n",
      "  (Right)\n",
      "SFFF\n",
      "FHFH\n",
      "F\u001b[41mF\u001b[0mFH\n",
      "HFFG\n",
      "Enter the number of your move: left(0) down(1) right(2) up(3): 2\n",
      "next_state=10\n",
      "reward=0.0\n",
      "{'prob': 1.0}\n",
      "done=False\n",
      "  (Right)\n",
      "SFFF\n",
      "FHFH\n",
      "FF\u001b[41mF\u001b[0mH\n",
      "HFFG\n",
      "Enter the number of your move: left(0) down(1) right(2) up(3): 1\n",
      "next_state=14\n",
      "reward=0.0\n",
      "{'prob': 1.0}\n",
      "done=False\n",
      "  (Down)\n",
      "SFFF\n",
      "FHFH\n",
      "FFFH\n",
      "HF\u001b[41mF\u001b[0mG\n",
      "Enter the number of your move: left(0) down(1) right(2) up(3): 2\n",
      "next_state=15\n",
      "reward=1.0\n",
      "{'prob': 1.0}\n",
      "done=True\n",
      "Nice job! Episode finished after 6 timesteps.\n"
     ]
    }
   ],
   "source": [
    "for i_episode in range(1):\n",
    "    state = env.reset()\n",
    "    for t in range(100):\n",
    "        env.render()\n",
    "        action = int(input(\"Enter the number of your move: left(0) down(1) right(2) up(3): \"))\n",
    "\n",
    "        new_state, reward, done, info = env.step(action)\n",
    "        print(f\"next_state={new_state}\") \n",
    "        print(f\"reward={reward}\")\n",
    "        print(info) \n",
    "        print(f\"done={done}\") \n",
    "        if done:\n",
    "          if reward == 1:\n",
    "            print(\"Nice job! Episode finished after {} timesteps.\".format(t+1))\n",
    "          else:\n",
    "            print(\"Oops! You fall in the hole. Episode finished after {} timesteps.\".format(t+1))\n",
    "          break\n",
    "\n",
    "env.close()"
   ]
  },
  {
   "cell_type": "code",
   "execution_count": null,
   "id": "ebddf0df",
   "metadata": {},
   "outputs": [],
   "source": []
  }
 ],
 "metadata": {
  "kernelspec": {
   "display_name": "Python 3 (ipykernel)",
   "language": "python",
   "name": "python3"
  },
  "language_info": {
   "codemirror_mode": {
    "name": "ipython",
    "version": 3
   },
   "file_extension": ".py",
   "mimetype": "text/x-python",
   "name": "python",
   "nbconvert_exporter": "python",
   "pygments_lexer": "ipython3",
   "version": "3.9.12"
  }
 },
 "nbformat": 4,
 "nbformat_minor": 5
}
