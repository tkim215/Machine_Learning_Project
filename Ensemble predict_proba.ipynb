{
 "cells": [
  {
   "cell_type": "code",
   "execution_count": 1,
   "id": "f3d0765d",
   "metadata": {},
   "outputs": [],
   "source": [
    "import numpy as np\n",
    "\n",
    "# train data 1=1, 2=2, 3=3 ...\n",
    "train_x = np.array([1, 2, 3, 4])\n",
    "train_y = np.array([10, 20, 30, 40])\n",
    "\n",
    "# testing data\n",
    "test_x = np.array([2, 3, 1, 4])\n",
    "test_y = np.array([20, 30, 10, 40])"
   ]
  },
  {
   "cell_type": "code",
   "execution_count": 2,
   "id": "f1374536",
   "metadata": {},
   "outputs": [
    {
     "data": {
      "text/plain": [
       "RandomForestClassifier()"
      ]
     },
     "execution_count": 2,
     "metadata": {},
     "output_type": "execute_result"
    }
   ],
   "source": [
    "# call RandomForestClassifier\n",
    "from sklearn.ensemble import RandomForestClassifier\n",
    "\n",
    "# run the model\n",
    "rf = RandomForestClassifier()\n",
    "rf.fit(train_x.reshape(-1, 1), train_y)"
   ]
  },
  {
   "cell_type": "code",
   "execution_count": 3,
   "id": "baac677c",
   "metadata": {},
   "outputs": [
    {
     "data": {
      "text/plain": [
       "array([20, 30, 10, 40])"
      ]
     },
     "execution_count": 3,
     "metadata": {},
     "output_type": "execute_result"
    }
   ],
   "source": [
    "rf.predict(test_x.reshape(-1, 1))"
   ]
  },
  {
   "cell_type": "code",
   "execution_count": 4,
   "id": "b8fc1121",
   "metadata": {},
   "outputs": [
    {
     "data": {
      "text/plain": [
       "array([[0.34, 0.64, 0.02, 0.  ],\n",
       "       [0.01, 0.3 , 0.56, 0.13],\n",
       "       [0.82, 0.16, 0.02, 0.  ],\n",
       "       [0.01, 0.06, 0.23, 0.7 ]])"
      ]
     },
     "execution_count": 4,
     "metadata": {},
     "output_type": "execute_result"
    }
   ],
   "source": [
    "# predict_proba:  P(test_x = train_y) ie. \"2\" is very likely (75%) to be 20. \n",
    "proba_result = rf.predict_proba(test_x.reshape(-1, 1))\n",
    "proba_result"
   ]
  },
  {
   "cell_type": "code",
   "execution_count": null,
   "id": "6a8547b8",
   "metadata": {},
   "outputs": [],
   "source": []
  }
 ],
 "metadata": {
  "kernelspec": {
   "display_name": "Python 3 (ipykernel)",
   "language": "python",
   "name": "python3"
  },
  "language_info": {
   "codemirror_mode": {
    "name": "ipython",
    "version": 3
   },
   "file_extension": ".py",
   "mimetype": "text/x-python",
   "name": "python",
   "nbconvert_exporter": "python",
   "pygments_lexer": "ipython3",
   "version": "3.9.12"
  }
 },
 "nbformat": 4,
 "nbformat_minor": 5
}
