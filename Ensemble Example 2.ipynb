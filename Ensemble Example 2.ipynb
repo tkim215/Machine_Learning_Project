{
 "cells": [
  {
   "cell_type": "markdown",
   "id": "f4efcf14",
   "metadata": {},
   "source": [
    "# Which one does a better classification job with handwritten numbners data: Decision Trees vs. Random Forest"
   ]
  },
  {
   "cell_type": "code",
   "execution_count": 1,
   "id": "cdb44130",
   "metadata": {},
   "outputs": [],
   "source": [
    "from sklearn import datasets, tree\n",
    "# from keras.datasets import mnist    \n",
    "from sklearn.ensemble import RandomForestClassifier\n",
    "from sklearn.model_selection import cross_val_score\n",
    "\n",
    "import matplotlib.pyplot as plt\n",
    "import pandas as pd\n",
    "import numpy as np\n",
    "%matplotlib inline"
   ]
  },
  {
   "cell_type": "markdown",
   "id": "1ae05497",
   "metadata": {},
   "source": [
    "# MNIST Data loading"
   ]
  },
  {
   "cell_type": "code",
   "execution_count": 2,
   "id": "8cdba4c8",
   "metadata": {},
   "outputs": [],
   "source": [
    "# mnist has 8x8 images (n=1797) \n",
    "mnist = datasets.load_digits()\n",
    "features, labels = mnist.data, mnist.target"
   ]
  },
  {
   "cell_type": "code",
   "execution_count": 3,
   "id": "d4500e76",
   "metadata": {},
   "outputs": [
    {
     "data": {
      "image/png": "[encoded data removed]",
      "text/plain": [
       "<Figure size 72x72 with 1 Axes>"
      ]
     },
     "metadata": {
      "needs_background": "light"
     },
     "output_type": "display_data"
    }
   ],
   "source": [
    "# Display a digit\n",
    "plt.figure(figsize=(1, 1))\n",
    "plt.imshow(mnist.images[-2], cmap=('gray'))\n",
    "plt.show()"
   ]
  },
  {
   "cell_type": "markdown",
   "id": "c85af3f1",
   "metadata": {},
   "source": [
    "# Making a CV Tool to Compare DT and RF"
   ]
  },
  {
   "cell_type": "code",
   "execution_count": 5,
   "id": "9e5bff18",
   "metadata": {},
   "outputs": [],
   "source": [
    "def cross_validation(classifier, features, lables):\n",
    "    cv_scores = []\n",
    "    \n",
    "    for i in range(15):\n",
    "        scores = cross_val_score(classifier, features, labels, cv=10, scoring='accuracy')\n",
    "        cv_scores.append(scores.mean())\n",
    "        \n",
    "    return cv_scores\n"
   ]
  },
  {
   "cell_type": "markdown",
   "id": "5016332d",
   "metadata": {},
   "source": [
    "# Run CV for each classifier"
   ]
  },
  {
   "cell_type": "code",
   "execution_count": 6,
   "id": "228fed29",
   "metadata": {},
   "outputs": [],
   "source": [
    "dt_cv_scores = cross_validation(tree.DecisionTreeClassifier(), features, labels)"
   ]
  },
  {
   "cell_type": "code",
   "execution_count": 7,
   "id": "c37efe42",
   "metadata": {},
   "outputs": [],
   "source": [
    "rf_cv_scores = cross_validation(RandomForestClassifier(n_estimators =20), features, labels)"
   ]
  },
  {
   "cell_type": "markdown",
   "id": "f7f5fb5a",
   "metadata": {},
   "source": [
    "# Visualizing Results"
   ]
  },
  {
   "cell_type": "code",
   "execution_count": 8,
   "id": "8f5c1757",
   "metadata": {},
   "outputs": [
    {
     "data": {
      "text/plain": [
       "[['random_forest',\n",
       "  [0.9304345127250155,\n",
       "   0.9382402234636871,\n",
       "   0.9337647423960274,\n",
       "   0.9254127870887648,\n",
       "   0.934332712600869,\n",
       "   0.9281905648665425,\n",
       "   0.934320297951583,\n",
       "   0.9304376163873371,\n",
       "   0.9354407200496585,\n",
       "   0.9304127870887647,\n",
       "   0.9382247051520795,\n",
       "   0.9387926753569211,\n",
       "   0.9437926753569211,\n",
       "   0.9349037864680321,\n",
       "   0.9349068901303538]],\n",
       " ['decision_tree',\n",
       "  [0.8274922408441961,\n",
       "   0.8269056486654252,\n",
       "   0.8336002482929856,\n",
       "   0.8219242706393544,\n",
       "   0.8274456859093731,\n",
       "   0.8263749224084419,\n",
       "   0.8313718187461203,\n",
       "   0.8302513966480447,\n",
       "   0.8269211669770329,\n",
       "   0.8213500931098696,\n",
       "   0.8302513966480447,\n",
       "   0.829143389199255,\n",
       "   0.8280291744258225,\n",
       "   0.8235630043451272,\n",
       "   0.8297082557417752]]]"
      ]
     },
     "execution_count": 8,
     "metadata": {},
     "output_type": "execute_result"
    }
   ],
   "source": [
    "cv_list = [    \n",
    "            ['random_forest',rf_cv_scores],\n",
    "            ['decision_tree',dt_cv_scores],\n",
    "          ]\n",
    "cv_list"
   ]
  },
  {
   "cell_type": "code",
   "execution_count": 9,
   "id": "8238959c",
   "metadata": {},
   "outputs": [
    {
     "data": {
      "text/plain": [
       "<AxesSubplot:>"
      ]
     },
     "execution_count": 9,
     "metadata": {},
     "output_type": "execute_result"
    },
    {
     "data": {
      "image/png": "[encoded data removed]",
      "text/plain": [
       "<Figure size 432x288 with 1 Axes>"
      ]
     },
     "metadata": {
      "needs_background": "light"
     },
     "output_type": "display_data"
    }
   ],
   "source": [
    "df = pd.DataFrame.from_dict(dict(cv_list))\n",
    "df.plot()"
   ]
  },
  {
   "cell_type": "markdown",
   "id": "19985d8f",
   "metadata": {},
   "source": [
    "# Calculate Average Accuracy Scores"
   ]
  },
  {
   "cell_type": "code",
   "execution_count": 10,
   "id": "986b0c4e",
   "metadata": {},
   "outputs": [
    {
     "data": {
      "text/plain": [
       "0.8276221808400577"
      ]
     },
     "execution_count": 10,
     "metadata": {},
     "output_type": "execute_result"
    }
   ],
   "source": [
    "np.mean(dt_cv_scores)"
   ]
  },
  {
   "cell_type": "code",
   "execution_count": 11,
   "id": "4f5f553f",
   "metadata": {},
   "outputs": [
    {
     "data": {
      "text/plain": [
       "0.9341071798055037"
      ]
     },
     "execution_count": 11,
     "metadata": {},
     "output_type": "execute_result"
    }
   ],
   "source": [
    "np.mean(rf_cv_scores)"
   ]
  },
  {
   "cell_type": "code",
   "execution_count": null,
   "id": "d3c7bcd3",
   "metadata": {},
   "outputs": [],
   "source": []
  }
 ],
 "metadata": {
  "kernelspec": {
   "display_name": "Python 3 (ipykernel)",
   "language": "python",
   "name": "python3"
  },
  "language_info": {
   "codemirror_mode": {
    "name": "ipython",
    "version": 3
   },
   "file_extension": ".py",
   "mimetype": "text/x-python",
   "name": "python",
   "nbconvert_exporter": "python",
   "pygments_lexer": "ipython3",
   "version": "3.9.12"
  }
 },
 "nbformat": 4,
 "nbformat_minor": 5
}
