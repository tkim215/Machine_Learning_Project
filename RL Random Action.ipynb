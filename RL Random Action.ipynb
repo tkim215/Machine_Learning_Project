{
 "cells": [
  {
   "cell_type": "code",
   "execution_count": 9,
   "id": "8c19c719",
   "metadata": {},
   "outputs": [],
   "source": [
    "import numpy as np\n",
    "import random as Huh"
   ]
  },
  {
   "cell_type": "code",
   "execution_count": 10,
   "id": "955ab60a",
   "metadata": {},
   "outputs": [
    {
     "data": {
      "text/plain": [
       "(array([0, 1, 2, 3], dtype=int64),)"
      ]
     },
     "execution_count": 10,
     "metadata": {},
     "output_type": "execute_result"
    }
   ],
   "source": [
    "np.nonzero([3,8,2,-5])"
   ]
  },
  {
   "cell_type": "code",
   "execution_count": 11,
   "id": "a48ef86a",
   "metadata": {},
   "outputs": [
    {
     "data": {
      "text/plain": [
       "(array([0, 1, 3], dtype=int64),)"
      ]
     },
     "execution_count": 11,
     "metadata": {},
     "output_type": "execute_result"
    }
   ],
   "source": [
    "np.nonzero([8,2,0,-4,0])"
   ]
  },
  {
   "cell_type": "code",
   "execution_count": 12,
   "id": "da4f31bb",
   "metadata": {},
   "outputs": [
    {
     "data": {
      "text/plain": [
       "30"
      ]
     },
     "execution_count": 12,
     "metadata": {},
     "output_type": "execute_result"
    }
   ],
   "source": [
    "np.amax([2,7,-1,30])\n",
    "# index 3 has the max and the value is 3"
   ]
  },
  {
   "cell_type": "code",
   "execution_count": 13,
   "id": "4f098ac7",
   "metadata": {},
   "outputs": [],
   "source": [
    "def rargmax(vector):    \n",
    "    m = np.amax(vector)\n",
    "\n",
    "    indices = np.nonzero(vector == m)\n",
    "\n",
    "    return Huh.choice(indices[0])\n",
    "   "
   ]
  },
  {
   "cell_type": "code",
   "execution_count": 14,
   "id": "5733e865",
   "metadata": {},
   "outputs": [
    {
     "data": {
      "text/plain": [
       "3"
      ]
     },
     "execution_count": 14,
     "metadata": {},
     "output_type": "execute_result"
    }
   ],
   "source": [
    "action = rargmax([0,1,0,1])\n",
    "action"
   ]
  },
  {
   "cell_type": "code",
   "execution_count": null,
   "id": "17538f59",
   "metadata": {},
   "outputs": [],
   "source": []
  }
 ],
 "metadata": {
  "kernelspec": {
   "display_name": "Python 3 (ipykernel)",
   "language": "python",
   "name": "python3"
  },
  "language_info": {
   "codemirror_mode": {
    "name": "ipython",
    "version": 3
   },
   "file_extension": ".py",
   "mimetype": "text/x-python",
   "name": "python",
   "nbconvert_exporter": "python",
   "pygments_lexer": "ipython3",
   "version": "3.9.12"
  }
 },
 "nbformat": 4,
 "nbformat_minor": 5
}
