{
 "cells": [
  {
   "cell_type": "code",
   "execution_count": 1,
   "id": "cffbd866",
   "metadata": {},
   "outputs": [],
   "source": [
    "def gini(total, n1, n2):\n",
    "    sum = 0\n",
    "    sum += (pow((n1 / total), 2) + pow((n2 / total), 2))\n",
    "    return (1 - sum)\n",
    "\n",
    "def split(total, n1, gini1, n2, gini2):\n",
    "    sum = 0\n",
    "    sum += ((n1 / total * gini1) + (n2 / total * gini2))\n",
    "    return sum"
   ]
  },
  {
   "cell_type": "code",
   "execution_count": 2,
   "id": "1c4dc1a2",
   "metadata": {},
   "outputs": [
    {
     "data": {
      "text/plain": [
       "0.4591836734693877"
      ]
     },
     "execution_count": 2,
     "metadata": {},
     "output_type": "execute_result"
    }
   ],
   "source": [
    "gini(14, 9, 5)"
   ]
  },
  {
   "cell_type": "code",
   "execution_count": 3,
   "id": "e00c5934",
   "metadata": {},
   "outputs": [
    {
     "data": {
      "text/plain": [
       "0.42857142857142855"
      ]
     },
     "execution_count": 3,
     "metadata": {},
     "output_type": "execute_result"
    }
   ],
   "source": [
    "split(14, 6, 0.5, 8, 0.375) "
   ]
  },
  {
   "cell_type": "code",
   "execution_count": 4,
   "id": "a6e8bdc8",
   "metadata": {},
   "outputs": [
    {
     "data": {
      "text/plain": [
       "0.42857142857142855"
      ]
     },
     "execution_count": 4,
     "metadata": {},
     "output_type": "execute_result"
    }
   ],
   "source": [
    "split(14, 6, gini(6, 3, 3), 8, gini(8, 6, 2))"
   ]
  },
  {
   "cell_type": "code",
   "execution_count": null,
   "id": "0b077669",
   "metadata": {},
   "outputs": [],
   "source": []
  }
 ],
 "metadata": {
  "kernelspec": {
   "display_name": "Python 3 (ipykernel)",
   "language": "python",
   "name": "python3"
  },
  "language_info": {
   "codemirror_mode": {
    "name": "ipython",
    "version": 3
   },
   "file_extension": ".py",
   "mimetype": "text/x-python",
   "name": "python",
   "nbconvert_exporter": "python",
   "pygments_lexer": "ipython3",
   "version": "3.9.12"
  }
 },
 "nbformat": 4,
 "nbformat_minor": 5
}
