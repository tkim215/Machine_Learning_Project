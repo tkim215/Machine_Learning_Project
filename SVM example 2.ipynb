{
 "cells": [
  {
   "cell_type": "code",
   "execution_count": 1,
   "id": "766a5f8c",
   "metadata": {},
   "outputs": [
    {
     "data": {
      "text/plain": [
       "SVC(C=10, kernel='linear')"
      ]
     },
     "execution_count": 1,
     "metadata": {},
     "output_type": "execute_result"
    }
   ],
   "source": [
    "import numpy as np\n",
    "import seaborn as sns\n",
    "from sklearn.svm import SVC\n",
    "import matplotlib.pyplot as plt\n",
    "\n",
    "classifier = SVC(kernel = 'linear', C=10)\n",
    "training_points = np.array([[-1, 4], [-2, 3], [-3, 4], [5, 6], [4, 5], [5, 5]])\n",
    "labels = [-1, -1, -1, 1, 1, 1]\n",
    "classifier.fit(training_points, labels)"
   ]
  },
  {
   "cell_type": "code",
   "execution_count": 2,
   "id": "06dc5747",
   "metadata": {},
   "outputs": [],
   "source": [
    "# extracting x values / y values\n",
    "x, y = training_points.T"
   ]
  },
  {
   "cell_type": "code",
   "execution_count": 3,
   "id": "ea0c0386",
   "metadata": {},
   "outputs": [
    {
     "data": {
      "text/plain": [
       "<matplotlib.collections.PathCollection at 0x1f96cfa6940>"
      ]
     },
     "execution_count": 3,
     "metadata": {},
     "output_type": "execute_result"
    },
    {
     "data": {
      "image/png": "[encoded data removed]",
      "text/plain": [
       "<Figure size 432x288 with 1 Axes>"
      ]
     },
     "metadata": {
      "needs_background": "light"
     },
     "output_type": "display_data"
    }
   ],
   "source": [
    "plt.xlim(-4, 10)\n",
    "plt.ylim(0, 10)\n",
    "plt.scatter(x, y, c=labels, s=30, cmap=plt.cm.Paired)"
   ]
  },
  {
   "cell_type": "code",
   "execution_count": 4,
   "id": "289d2412",
   "metadata": {},
   "outputs": [],
   "source": [
    "# find a, b, c for the decision boundary ax + by + c1 = 0\n",
    "# a = w[0]; b = w[1]; c = classifier.intercept_\n",
    "w = classifier.coef_[0]\n",
    "c1 = classifier.intercept_[0]"
   ]
  },
  {
   "cell_type": "code",
   "execution_count": 5,
   "id": "6f4d2957",
   "metadata": {},
   "outputs": [],
   "source": [
    "# Get the decision boundary equation (the separating hyperplane)\n",
    "m = -w[0] / w[1]\n",
    "xx = np.linspace(-4, 8)\n",
    "yy = m * xx - c1/w[1]"
   ]
  },
  {
   "cell_type": "code",
   "execution_count": 6,
   "id": "cb1a2496",
   "metadata": {},
   "outputs": [
    {
     "data": {
      "text/plain": [
       "[<matplotlib.lines.Line2D at 0x1f96d747820>]"
      ]
     },
     "execution_count": 6,
     "metadata": {},
     "output_type": "execute_result"
    },
    {
     "data": {
      "image/png": "[encoded data removed]",
      "text/plain": [
       "<Figure size 432x288 with 1 Axes>"
      ]
     },
     "metadata": {
      "needs_background": "light"
     },
     "output_type": "display_data"
    }
   ],
   "source": [
    "# Draw the decision boundary\n",
    "plt.scatter(x, y, c=labels, s=30, cmap=plt.cm.Paired)\n",
    "plt.xlim(-4, 10)\n",
    "plt.ylim(0, 10)\n",
    "plt.plot(xx, yy, linewidth=2, color='black')"
   ]
  },
  {
   "cell_type": "code",
   "execution_count": 7,
   "id": "d649705c",
   "metadata": {},
   "outputs": [],
   "source": [
    "# find support vectors\n",
    "sv1= classifier.support_vectors_[0]\n",
    "sv2= classifier.support_vectors_[1]"
   ]
  },
  {
   "cell_type": "code",
   "execution_count": 8,
   "id": "cf60f86e",
   "metadata": {},
   "outputs": [
    {
     "data": {
      "text/plain": [
       "<matplotlib.collections.PathCollection at 0x1f96d7ca640>"
      ]
     },
     "execution_count": 8,
     "metadata": {},
     "output_type": "execute_result"
    },
    {
     "data": {
      "image/png": "[encoded data removed]",
      "text/plain": [
       "<Figure size 432x288 with 1 Axes>"
      ]
     },
     "metadata": {
      "needs_background": "light"
     },
     "output_type": "display_data"
    }
   ],
   "source": [
    "# Draw the parallel hyperplanes that pass through the support vectors\n",
    "yy_down = m *(xx - sv1[0]) + sv1[1]\n",
    "yy_up = m *(xx - sv2[0]) + sv2[1]\n",
    "plt.scatter(x, y, c=labels, s=30, cmap=plt.cm.Paired)\n",
    "plt.xlim(-4, 10)\n",
    "plt.ylim(0, 10)\n",
    "plt.plot(xx, yy, linewidth=2, color='black')\n",
    "plt.plot(xx, yy_down, 'k--')\n",
    "plt.plot(xx, yy_up, 'k--')\n",
    "plt.scatter(sv1[0], sv1[1], marker=\"x\", s=100)\n",
    "plt.scatter(sv2[0], sv2[1], marker=\"x\", s=100)"
   ]
  },
  {
   "cell_type": "code",
   "execution_count": 11,
   "id": "16b79b70",
   "metadata": {},
   "outputs": [
    {
     "name": "stdout",
     "output_type": "stream",
     "text": [
      "[1]\n"
     ]
    }
   ],
   "source": [
    "print(classifier.predict([[5, 4]]))"
   ]
  },
  {
   "cell_type": "code",
   "execution_count": 13,
   "id": "8274dc9a",
   "metadata": {},
   "outputs": [
    {
     "name": "stdout",
     "output_type": "stream",
     "text": [
      "[-1]\n"
     ]
    }
   ],
   "source": [
    "print(classifier.predict([[-2, 1]]))"
   ]
  }
 ],
 "metadata": {
  "kernelspec": {
   "display_name": "Python 3 (ipykernel)",
   "language": "python",
   "name": "python3"
  },
  "language_info": {
   "codemirror_mode": {
    "name": "ipython",
    "version": 3
   },
   "file_extension": ".py",
   "mimetype": "text/x-python",
   "name": "python",
   "nbconvert_exporter": "python",
   "pygments_lexer": "ipython3",
   "version": "3.9.12"
  }
 },
 "nbformat": 4,
 "nbformat_minor": 5
}
