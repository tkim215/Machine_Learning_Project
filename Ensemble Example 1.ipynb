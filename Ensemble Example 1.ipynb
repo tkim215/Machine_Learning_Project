{
 "cells": [
  {
   "cell_type": "markdown",
   "id": "a3dd0d57",
   "metadata": {},
   "source": [
    "# Ensembling"
   ]
  },
  {
   "cell_type": "code",
   "execution_count": 1,
   "id": "b8f0a73a",
   "metadata": {},
   "outputs": [],
   "source": [
    "from sklearn.model_selection import train_test_split\n",
    "from sklearn.metrics import accuracy_score\n",
    "\n",
    "# three base models\n",
    "from sklearn import tree\n",
    "from sklearn.neighbors import KNeighborsClassifier\n",
    "from sklearn.svm import SVC\n",
    "\n",
    "from sklearn.ensemble import VotingClassifier\n"
   ]
  },
  {
   "cell_type": "markdown",
   "id": "a02fa6d2",
   "metadata": {},
   "source": [
    "# Wine Data Loading"
   ]
  },
  {
   "cell_type": "code",
   "execution_count": 2,
   "id": "a0527549",
   "metadata": {},
   "outputs": [],
   "source": [
    "import pandas as pd\n",
    "wine_df = pd.read_csv(\"C:/Users/kimta/Introduction to Machine Learning/raw_data/wine.csv\")"
   ]
  },
  {
   "cell_type": "code",
   "execution_count": 3,
   "id": "540ac156",
   "metadata": {},
   "outputs": [],
   "source": [
    "import numpy as np\n",
    "\n",
    "features = wine_df[['Alcohol', 'Flavanoids', 'OD']].to_numpy()\n",
    "labels = wine_df['Wine'].to_numpy()\n",
    "\n",
    "X_train,X_test,y_train,y_test=train_test_split(features,labels,test_size=0.2)"
   ]
  },
  {
   "cell_type": "markdown",
   "id": "e1ab943c",
   "metadata": {},
   "source": [
    "# Run Individual Base Models"
   ]
  },
  {
   "cell_type": "code",
   "execution_count": 4,
   "id": "fbd8338d",
   "metadata": {},
   "outputs": [],
   "source": [
    "dtree = tree.DecisionTreeClassifier(\n",
    "    criterion=\"gini\", max_depth=8)\n",
    "\n",
    "dtree = dtree.fit(X_train, y_train)\n",
    "dtree_predicted = dtree.predict(X_test)\n",
    "\n",
    "knn = KNeighborsClassifier(n_neighbors=15).fit(X_train, y_train)\n",
    "knn_predicted = knn.predict(X_test)\n",
    "\n",
    "svm = SVC(kernel='rbf',C=0.1, gamma=0.003,probability=True).fit(X_train, y_train)\n",
    "svm_predicted = svm.predict(X_test)"
   ]
  },
  {
   "cell_type": "code",
   "execution_count": 5,
   "id": "34fb29ac",
   "metadata": {},
   "outputs": [
    {
     "name": "stdout",
     "output_type": "stream",
     "text": [
      "[accuarcy]\n",
      "d-tree:  0.9722222222222222\n",
      "knn   :  1.0\n",
      "svm   :  0.4166666666666667\n"
     ]
    }
   ],
   "source": [
    "print(\"[accuarcy]\")\n",
    "print(\"d-tree: \",accuracy_score(y_test, dtree_predicted))\n",
    "print(\"knn   : \",accuracy_score(y_test, knn_predicted))\n",
    "print(\"svm   : \",accuracy_score(y_test, svm_predicted))"
   ]
  },
  {
   "cell_type": "markdown",
   "id": "9f17ee87",
   "metadata": {},
   "source": [
    "# Get predict_proba data via SVM"
   ]
  },
  {
   "cell_type": "code",
   "execution_count": 6,
   "id": "10a407e1",
   "metadata": {},
   "outputs": [
    {
     "name": "stdout",
     "output_type": "stream",
     "text": [
      "[[0.    0.005 0.994]\n",
      " [0.161 0.797 0.042]\n",
      " [0.029 0.964 0.007]\n",
      " [0.651 0.271 0.078]\n",
      " [0.905 0.049 0.046]\n",
      " [0.976 0.008 0.016]\n",
      " [0.471 0.511 0.018]\n",
      " [0.996 0.003 0.001]\n",
      " [0.994 0.003 0.002]\n",
      " [0.987 0.001 0.012]\n",
      " [0.884 0.116 0.   ]\n",
      " [0.993 0.003 0.005]\n",
      " [0.351 0.628 0.021]\n",
      " [0.002 0.998 0.001]\n",
      " [0.475 0.485 0.04 ]\n",
      " [0.981 0.004 0.014]\n",
      " [0.015 0.981 0.004]\n",
      " [0.983 0.011 0.007]\n",
      " [0.243 0.753 0.004]\n",
      " [0.99  0.007 0.003]\n",
      " [0.884 0.106 0.011]\n",
      " [0.923 0.049 0.028]\n",
      " [0.01  0.96  0.031]\n",
      " [0.004 0.076 0.92 ]\n",
      " [0.027 0.819 0.154]\n",
      " [0.002 0.939 0.059]\n",
      " [0.002 0.036 0.962]\n",
      " [0.821 0.105 0.075]\n",
      " [0.002 0.007 0.991]\n",
      " [0.938 0.037 0.026]\n",
      " [0.024 0.902 0.074]\n",
      " [0.002 0.006 0.993]\n",
      " [0.001 0.02  0.979]\n",
      " [0.    0.    1.   ]\n",
      " [0.012 0.904 0.085]\n",
      " [0.045 0.952 0.003]]\n"
     ]
    }
   ],
   "source": [
    "svm_probability=svm.predict_proba(X_test)\n",
    "print(svm_probability.round(3))"
   ]
  },
  {
   "cell_type": "markdown",
   "id": "0894ef00",
   "metadata": {},
   "source": [
    "# Hard Voting"
   ]
  },
  {
   "cell_type": "code",
   "execution_count": 7,
   "id": "a729f892",
   "metadata": {},
   "outputs": [
    {
     "data": {
      "text/plain": [
       "1.0"
      ]
     },
     "execution_count": 7,
     "metadata": {},
     "output_type": "execute_result"
    }
   ],
   "source": [
    "voting_clf = VotingClassifier(estimators=[\n",
    "    ('decision_tree', dtree), ('knn', knn), ('svm', svm)], \n",
    "    weights=[1,1,1], voting='hard').fit(X_train, y_train)\n",
    "hard_voting_predicted = voting_clf.predict(X_test)\n",
    "accuracy_score(y_test, hard_voting_predicted)"
   ]
  },
  {
   "cell_type": "markdown",
   "id": "5f0c0194",
   "metadata": {},
   "source": [
    "# Soft Voting"
   ]
  },
  {
   "cell_type": "code",
   "execution_count": 8,
   "id": "a9579035",
   "metadata": {},
   "outputs": [
    {
     "data": {
      "text/plain": [
       "0.9722222222222222"
      ]
     },
     "execution_count": 8,
     "metadata": {},
     "output_type": "execute_result"
    }
   ],
   "source": [
    "voting_clf = VotingClassifier(estimators=[\n",
    "    ('decision_tree', dtree), ('knn', knn), ('svm', svm)], \n",
    "    weights=[1,1,1], voting='soft').fit(X_train, y_train)\n",
    "soft_voting_predicted = voting_clf.predict(X_test)\n",
    "accuracy_score(y_test, soft_voting_predicted)"
   ]
  },
  {
   "cell_type": "markdown",
   "id": "3c6c5355",
   "metadata": {},
   "source": [
    "# More close look into voting data"
   ]
  },
  {
   "cell_type": "code",
   "execution_count": 9,
   "id": "bd3938b1",
   "metadata": {},
   "outputs": [
    {
     "data": {
      "text/plain": [
       "array([3, 2, 2, 1, 1, 1, 2, 1, 1, 1, 2, 1, 2, 2, 2, 1, 2, 1, 2, 1, 1, 1,\n",
       "       2, 3, 2, 2, 3, 1, 3, 1, 2, 3, 3, 3, 2, 2], dtype=int64)"
      ]
     },
     "execution_count": 9,
     "metadata": {},
     "output_type": "execute_result"
    }
   ],
   "source": [
    "y_test"
   ]
  },
  {
   "cell_type": "code",
   "execution_count": 10,
   "id": "94c13c1b",
   "metadata": {},
   "outputs": [
    {
     "data": {
      "text/plain": [
       "array([3, 2, 2, 1, 1, 1, 2, 1, 1, 1, 2, 1, 2, 2, 2, 1, 2, 1, 2, 1, 1, 1,\n",
       "       2, 3, 2, 2, 3, 1, 3, 1, 2, 3, 3, 3, 2, 2], dtype=int64)"
      ]
     },
     "execution_count": 10,
     "metadata": {},
     "output_type": "execute_result"
    }
   ],
   "source": [
    "hard_voting_predicted "
   ]
  },
  {
   "cell_type": "code",
   "execution_count": 11,
   "id": "2873deac",
   "metadata": {},
   "outputs": [
    {
     "data": {
      "text/plain": [
       "array([3, 2, 2, 2, 1, 1, 2, 1, 1, 1, 2, 1, 2, 2, 2, 1, 2, 1, 2, 1, 1, 1,\n",
       "       2, 3, 2, 2, 3, 1, 3, 1, 2, 3, 3, 3, 2, 2], dtype=int64)"
      ]
     },
     "execution_count": 11,
     "metadata": {},
     "output_type": "execute_result"
    }
   ],
   "source": [
    "soft_voting_predicted"
   ]
  },
  {
   "cell_type": "markdown",
   "id": "f7060d1e",
   "metadata": {},
   "source": [
    "# Visualize accuracy scores for individual models and ensembling"
   ]
  },
  {
   "cell_type": "code",
   "execution_count": 12,
   "id": "af239412",
   "metadata": {},
   "outputs": [
    {
     "data": {
      "image/png": "[encoded data removed]",
      "text/plain": [
       "<Figure size 432x288 with 1 Axes>"
      ]
     },
     "metadata": {
      "needs_background": "light"
     },
     "output_type": "display_data"
    }
   ],
   "source": [
    "import matplotlib.pyplot as plt\n",
    "%matplotlib inline\n",
    "\n",
    "x = np.arange(5)\n",
    "plt.bar(x, height= [accuracy_score(y_test, dtree_predicted),\n",
    "                    accuracy_score(y_test, knn_predicted),\n",
    "                    accuracy_score(y_test, svm_predicted),\n",
    "                    accuracy_score(y_test, hard_voting_predicted),\n",
    "                    accuracy_score(y_test, soft_voting_predicted)])\n",
    "plt.xticks(x, ['decision tree','knn','svm','hard voting','soft voting']);"
   ]
  },
  {
   "cell_type": "code",
   "execution_count": null,
   "id": "24c2198c",
   "metadata": {},
   "outputs": [],
   "source": []
  }
 ],
 "metadata": {
  "kernelspec": {
   "display_name": "Python 3 (ipykernel)",
   "language": "python",
   "name": "python3"
  },
  "language_info": {
   "codemirror_mode": {
    "name": "ipython",
    "version": 3
   },
   "file_extension": ".py",
   "mimetype": "text/x-python",
   "name": "python",
   "nbconvert_exporter": "python",
   "pygments_lexer": "ipython3",
   "version": "3.9.12"
  }
 },
 "nbformat": 4,
 "nbformat_minor": 5
}
